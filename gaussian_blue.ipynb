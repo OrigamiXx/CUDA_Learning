{
 "cells": [
  {
   "cell_type": "code",
   "execution_count": null,
   "metadata": {},
   "outputs": [],
   "source": [
    "!pip install ninja --quiet\n",
    "!nvidia-smi\n",
    "from google.colab import drive\n",
    "drive.mount('/content/drive')"
   ]
  },
  {
   "cell_type": "code",
   "execution_count": null,
   "metadata": {},
   "outputs": [],
   "source": [
    "from pathlib import Path\n",
    "import torch\n",
    "from torchvision.io import read_image, write_png\n",
    "from torch.utils.cpp_extension import load_inline\n",
    "import os\n",
    "\n",
    "\n",
    "def compile_extension():\n",
    "    cuda_source = Path(\"/content/drive/MyDrive/Cuda_Learning/kernels/blur.cu\").read_text()\n",
    "    cpp_source = \"torch::Tensor blur_image(torch::Tensor image);\"\n",
    "\n",
    "    build_directory = './cuda_build'\n",
    "    if not os.path.exists(build_directory):\n",
    "        os.makedirs(build_directory)\n",
    "\n",
    "    # Load the CUDA kernel as a PyTorch extension\n",
    "    blur_extension = load_inline(\n",
    "        name=\"blur\",\n",
    "        cpp_sources=cpp_source,\n",
    "        cuda_sources=cuda_source,\n",
    "        functions=[\"blur_image\"],\n",
    "        with_cuda=True,\n",
    "        extra_cuda_cflags=[\"-O2\"],\n",
    "        verbose=True,\n",
    "        build_directory=build_directory,\n",
    "    )\n",
    "    return blur_extension\n",
    "\n",
    "\n",
    "def _main():\n",
    "    \"\"\"\n",
    "    Use torch cpp inline extension function to compile the kernel in grayscale_kernel.cu.\n",
    "    Read input image, convert it to grayscale via custom cuda kernel and write it out as png.\n",
    "    \"\"\"\n",
    "    ext = compile_extension()\n",
    "\n",
    "    x = read_image(\"/content/drive/MyDrive/Cuda_Learning/imgs/test.png\").permute(1, 2, 0).cuda()\n",
    "    print(\"mean:\", x.float().mean())\n",
    "    print(\"Input image:\", x.shape, x.dtype)\n",
    "\n",
    "    assert x.dtype == torch.uint8\n",
    "\n",
    "    y = ext.blur_image(x)\n",
    "\n",
    "    print(\"Output image:\", y.shape, y.dtype)\n",
    "    print(\"mean\", y.float().mean())\n",
    "    write_png(y.permute(2, 0, 1).cpu(), \"/content/drive/MyDrive/Cuda_Learning/imgs_out/output.png\")\n",
    "\n",
    "_main()"
   ]
  }
 ],
 "metadata": {
  "language_info": {
   "name": "python"
  }
 },
 "nbformat": 4,
 "nbformat_minor": 2
}
